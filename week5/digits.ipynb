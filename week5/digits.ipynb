{
 "cells": [
  {
   "cell_type": "markdown",
   "metadata": {},
   "source": [
    "## Numbers Dataset"
   ]
  },
  {
   "cell_type": "markdown",
   "metadata": {},
   "source": [
    "We have a dataset of handwritten digits from 0 to 9\n",
    "\n",
    "We need some library to read the images, I've chosen the pillow library which comes with Anaconda, if you need to \n",
    "\n",
    "pip install Pillow\n",
    "\n",
    "should install it for you"
   ]
  },
  {
   "cell_type": "code",
   "execution_count": null,
   "metadata": {},
   "outputs": [],
   "source": [
    "import numpy as np\n",
    "import glob\n",
    "import matplotlib.pyplot as plt\n",
    "from PIL import Image"
   ]
  },
  {
   "cell_type": "code",
   "execution_count": null,
   "metadata": {},
   "outputs": [],
   "source": [
    "##Printing Examples\n",
    "def printexamples(X, y, examples_per_class = 10, number_of_classes = 10, mult = 1.0):\n",
    "    pos = 0\n",
    "    data = pd.DataFrame(y, columns=[\"yvalue\"])\n",
    "    for cls in range(number_of_classes):\n",
    "        this_class = data[data[\"yvalue\"] == cls]\n",
    "        idxs = this_class.sample(examples_per_class).index\n",
    "        for i, idx in enumerate(idxs):\n",
    "            plt.subplot(examples_per_class, number_of_classes, i * number_of_classes + cls + 1)\n",
    "            plt.imshow((X[idx]*mult).reshape(20,20).astype('uint8'), cmap='gray')\n",
    "            plt.axis('off')\n",
    "            if i == 0:\n",
    "                plt.title(str(cls))\n",
    "    plt.show()"
   ]
  },
  {
   "cell_type": "code",
   "execution_count": null,
   "metadata": {},
   "outputs": [],
   "source": []
  },
  {
   "cell_type": "code",
   "execution_count": null,
   "metadata": {},
   "outputs": [],
   "source": []
  },
  {
   "cell_type": "code",
   "execution_count": null,
   "metadata": {},
   "outputs": [],
   "source": []
  },
  {
   "cell_type": "code",
   "execution_count": null,
   "metadata": {},
   "outputs": [],
   "source": []
  }
 ],
 "metadata": {
  "kernelspec": {
   "display_name": "Python 3",
   "language": "python",
   "name": "python3"
  },
  "language_info": {
   "codemirror_mode": {
    "name": "ipython",
    "version": 3
   },
   "file_extension": ".py",
   "mimetype": "text/x-python",
   "name": "python",
   "nbconvert_exporter": "python",
   "pygments_lexer": "ipython3",
   "version": "3.7.3"
  }
 },
 "nbformat": 4,
 "nbformat_minor": 2
}
